{
 "cells": [
  {
   "cell_type": "code",
   "execution_count": null,
   "id": "8390fda4",
   "metadata": {},
   "outputs": [],
   "source": [
    "import pandas as pd"
   ]
  }
 ],
 "metadata": {
  "kernelspec": {
   "display_name": "0306",
   "language": "python",
   "name": "0306"
  }
 },
 "nbformat": 4,
 "nbformat_minor": 5
}
