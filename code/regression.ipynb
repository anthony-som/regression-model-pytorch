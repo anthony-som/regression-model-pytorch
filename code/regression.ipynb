{
 "cells": [
  {
   "cell_type": "code",
   "execution_count": 1,
   "id": "ea520386",
   "metadata": {},
   "outputs": [
    {
     "data": {
      "text/html": [
       "<div>\n",
       "<style scoped>\n",
       "    .dataframe tbody tr th:only-of-type {\n",
       "        vertical-align: middle;\n",
       "    }\n",
       "\n",
       "    .dataframe tbody tr th {\n",
       "        vertical-align: top;\n",
       "    }\n",
       "\n",
       "    .dataframe thead th {\n",
       "        text-align: right;\n",
       "    }\n",
       "</style>\n",
       "<table border=\"1\" class=\"dataframe\">\n",
       "  <thead>\n",
       "    <tr style=\"text-align: right;\">\n",
       "      <th></th>\n",
       "      <th>longitude</th>\n",
       "      <th>latitude</th>\n",
       "      <th>housing_median_age</th>\n",
       "      <th>total_rooms</th>\n",
       "      <th>total_bedrooms</th>\n",
       "      <th>population</th>\n",
       "      <th>households</th>\n",
       "      <th>median_income</th>\n",
       "      <th>median_house_value</th>\n",
       "    </tr>\n",
       "  </thead>\n",
       "  <tbody>\n",
       "    <tr>\n",
       "      <th>0</th>\n",
       "      <td>-114.31</td>\n",
       "      <td>34.19</td>\n",
       "      <td>15.0</td>\n",
       "      <td>5612.0</td>\n",
       "      <td>1283.0</td>\n",
       "      <td>1015.0</td>\n",
       "      <td>472.0</td>\n",
       "      <td>1.4936</td>\n",
       "      <td>66900.0</td>\n",
       "    </tr>\n",
       "    <tr>\n",
       "      <th>1</th>\n",
       "      <td>-114.47</td>\n",
       "      <td>34.40</td>\n",
       "      <td>19.0</td>\n",
       "      <td>7650.0</td>\n",
       "      <td>1901.0</td>\n",
       "      <td>1129.0</td>\n",
       "      <td>463.0</td>\n",
       "      <td>1.8200</td>\n",
       "      <td>80100.0</td>\n",
       "    </tr>\n",
       "    <tr>\n",
       "      <th>2</th>\n",
       "      <td>-114.56</td>\n",
       "      <td>33.69</td>\n",
       "      <td>17.0</td>\n",
       "      <td>720.0</td>\n",
       "      <td>174.0</td>\n",
       "      <td>333.0</td>\n",
       "      <td>117.0</td>\n",
       "      <td>1.6509</td>\n",
       "      <td>85700.0</td>\n",
       "    </tr>\n",
       "    <tr>\n",
       "      <th>3</th>\n",
       "      <td>-114.57</td>\n",
       "      <td>33.64</td>\n",
       "      <td>14.0</td>\n",
       "      <td>1501.0</td>\n",
       "      <td>337.0</td>\n",
       "      <td>515.0</td>\n",
       "      <td>226.0</td>\n",
       "      <td>3.1917</td>\n",
       "      <td>73400.0</td>\n",
       "    </tr>\n",
       "    <tr>\n",
       "      <th>4</th>\n",
       "      <td>-114.57</td>\n",
       "      <td>33.57</td>\n",
       "      <td>20.0</td>\n",
       "      <td>1454.0</td>\n",
       "      <td>326.0</td>\n",
       "      <td>624.0</td>\n",
       "      <td>262.0</td>\n",
       "      <td>1.9250</td>\n",
       "      <td>65500.0</td>\n",
       "    </tr>\n",
       "  </tbody>\n",
       "</table>\n",
       "</div>"
      ],
      "text/plain": [
       "   longitude  latitude  housing_median_age  total_rooms  total_bedrooms  \\\n",
       "0    -114.31     34.19                15.0       5612.0          1283.0   \n",
       "1    -114.47     34.40                19.0       7650.0          1901.0   \n",
       "2    -114.56     33.69                17.0        720.0           174.0   \n",
       "3    -114.57     33.64                14.0       1501.0           337.0   \n",
       "4    -114.57     33.57                20.0       1454.0           326.0   \n",
       "\n",
       "   population  households  median_income  median_house_value  \n",
       "0      1015.0       472.0         1.4936             66900.0  \n",
       "1      1129.0       463.0         1.8200             80100.0  \n",
       "2       333.0       117.0         1.6509             85700.0  \n",
       "3       515.0       226.0         3.1917             73400.0  \n",
       "4       624.0       262.0         1.9250             65500.0  "
      ]
     },
     "execution_count": 1,
     "metadata": {},
     "output_type": "execute_result"
    }
   ],
   "source": [
    "import pandas as pd\n",
    "\n",
    "train_df = pd.read_csv('../data/california_housing_train.csv')\n",
    "test_df = pd.read_csv('../data/california_housing_test.csv')\n",
    "\n",
    "train_df.head()"
   ]
  },
  {
   "cell_type": "code",
   "execution_count": 2,
   "id": "30993c65",
   "metadata": {},
   "outputs": [
    {
     "data": {
      "text/plain": [
       "((17000, 8), (17000,))"
      ]
     },
     "execution_count": 2,
     "metadata": {},
     "output_type": "execute_result"
    }
   ],
   "source": [
    "X_train_np = train_df.to_numpy()[:, :-1] # Take all columns except the last one\n",
    "y_train_np = train_df.to_numpy()[:, -1] # Take the last column\n",
    "\n",
    "X_train_np.shape, y_train_np.shape"
   ]
  },
  {
   "cell_type": "code",
   "execution_count": 3,
   "id": "ef378eb8",
   "metadata": {},
   "outputs": [
    {
     "data": {
      "text/plain": [
       "((3000, 8), (3000,))"
      ]
     },
     "execution_count": 3,
     "metadata": {},
     "output_type": "execute_result"
    }
   ],
   "source": [
    "X_test_np = test_df.to_numpy()[:, :-1] # Take all columns except the last one\n",
    "y_test_np = test_df.to_numpy()[:, -1] # Take the last column\n",
    "\n",
    "X_test_np.shape, y_test_np.shape"
   ]
  },
  {
   "cell_type": "code",
   "execution_count": 4,
   "metadata": {},
   "outputs": [],
   "source": [
    "import torch\n",
    "from torch.utils.data import TensorDataset # create numpy array dataset\n",
    "\n",
    "# Create dataset\n",
    "train_dataset = TensorDataset(torch.tensor(X_train_np, dtype=torch.float), torch.tensor(y_train_np.reshape((-1,1)), dtype=torch.float))\n",
    "test_dataset = TensorDataset(torch.tensor(X_train_np, dtype=torch.float), torch.tensor(y_train_np.reshape((-1,1)), dtype=torch.float))"
   ]
  },
  {
   "cell_type": "code",
   "execution_count": 5,
   "id": "12d984bf",
   "metadata": {},
   "outputs": [
    {
     "name": "stdout",
     "output_type": "stream",
     "text": [
      "torch.Size([128, 8]) torch.Size([128, 1])\n"
     ]
    }
   ],
   "source": [
    "from torch.utils.data import DataLoader\n",
    "\n",
    "# Create dataloader\n",
    "train_dataloader = DataLoader(train_dataset, batch_size=128)\n",
    "test_dataloader = DataLoader(test_dataset, batch_size=64)\n",
    "\n",
    "for X, y in train_dataloader:\n",
    "    print(X.shape, y.shape)\n",
    "    break"
   ]
  },
  {
   "cell_type": "code",
   "execution_count": 6,
   "id": "320eb64f",
   "metadata": {},
   "outputs": [
    {
     "name": "stdout",
     "output_type": "stream",
     "text": [
      "Train data loader\n",
      "torch.Size([128, 8]) torch.Size([128, 1])\n",
      "Test data loader\n",
      "torch.Size([64, 8]) torch.Size([64, 1])\n"
     ]
    }
   ],
   "source": [
    "print(\"Train data loader\")\n",
    "for X, y in train_dataloader:\n",
    "    print(X.shape, y.shape)\n",
    "    break\n",
    "\n",
    "print(\"Test data loader\")\n",
    "for X, y in test_dataloader:\n",
    "    print(X.shape, y.shape)\n",
    "    break"
   ]
  },
  {
   "cell_type": "code",
   "execution_count": 7,
   "metadata": {},
   "outputs": [
    {
     "name": "stdout",
     "output_type": "stream",
     "text": [
      "Using cuda device\n"
     ]
    }
   ],
   "source": [
    "from torch import nn\n",
    "\n",
    "device = 'cuda' if torch.cuda.is_available() else 'cpu'\n",
    "print(f'Using {device} device')"
   ]
  },
  {
   "cell_type": "code",
   "execution_count": 8,
   "id": "b5711a18",
   "metadata": {},
   "outputs": [
    {
     "name": "stdout",
     "output_type": "stream",
     "text": [
      "NeuralNet(\n",
      "  (hidden_layer): Linear(in_features=8, out_features=64, bias=True)\n",
      "  (hidden_activation): ReLU()\n",
      "  (out): Linear(in_features=64, out_features=1, bias=True)\n",
      ")\n"
     ]
    }
   ],
   "source": [
    "class NeuralNet(nn.Module):\n",
    "    def __init__(self):\n",
    "        super(NeuralNet, self).__init__()\n",
    "        \n",
    "        # Define Layers\n",
    "        self.hidden_layer = nn.Linear(8, 64)\n",
    "        self.hidden_activation = nn.ReLU()\n",
    "        self.out = nn.Linear(64, 1)\n",
    "        \n",
    "    def forward(self, x):\n",
    "        x = self.hidden_layer(x)\n",
    "        x = self.hidden_activation(x)\n",
    "        x = self.out(x)\n",
    "        return x\n",
    "    \n",
    "\n",
    "model = NeuralNet().to(device)\n",
    "print(model)"
   ]
  },
  {
   "cell_type": "code",
   "execution_count": 9,
   "id": "bea0420e",
   "metadata": {},
   "outputs": [],
   "source": [
    "# define loss function\n",
    "loss_fn = nn.MSELoss() # because we are doing regression\n",
    "optimizer = torch.optim.Adam(model.parameters(), lr=0.01) # define optimizer"
   ]
  },
  {
   "cell_type": "code",
   "execution_count": 10,
   "id": "7f600757",
   "metadata": {},
   "outputs": [],
   "source": [
    "def train(dataloader, model, loss_fn, optmizer):\n",
    "    model.train() #set to train mode\n",
    "    train_loss = 0\n",
    "    \n",
    "    # grab index and whatever is in it\n",
    "    for i, (X, y) in enumerate(dataloader):\n",
    "        X, y = X.to(device), y.to(device)\n",
    "        \n",
    "        y_hat = model(X)\n",
    "        mse = loss_fn(y_hat, y)\n",
    "        train_loss += mse.item()\n",
    "        \n",
    "        optimizer.zero_grad()\n",
    "        mse.backward()\n",
    "        optimizer.step()\n",
    "        \n",
    "    num_batches = len(dataloader)\n",
    "    train_mse = train_loss / num_batches\n",
    "    print(f'Train RMSE: {train_mse**(1/2):.4f}')"
   ]
  },
  {
   "cell_type": "code",
   "execution_count": 11,
   "id": "4f839ce7",
   "metadata": {},
   "outputs": [],
   "source": [
    "def test(dataloader, model, loss_fn):\n",
    "    model.eval() #set to evaluation mode\n",
    "    test_loss = 0\n",
    "    \n",
    "    with torch.no_grad():\n",
    "        for X, y in dataloader:\n",
    "            X, y = X.to(device), y.to(device)\n",
    "            y_hat = model(X)\n",
    "            test_loss += loss_fn(y_hat, y).item()\n",
    "            \n",
    "    num_batches = len(dataloader)\n",
    "    test_mse = test_loss / num_batches\n",
    "    \n",
    "    print(f'Test RMSE: {test_mse**(1/2):.4f}\\n')\n",
    "            "
   ]
  },
  {
   "cell_type": "code",
   "execution_count": 12,
   "id": "89c49543",
   "metadata": {},
   "outputs": [
    {
     "name": "stdout",
     "output_type": "stream",
     "text": [
      "Epoch 1\n",
      "----------------------------\n",
      "Train RMSE: 188480.9894\n",
      "TEST RMSE: 171355.9909\n",
      "\n",
      "Epoch 2\n",
      "----------------------------\n",
      "Train RMSE: 167154.6232\n",
      "TEST RMSE: 164015.1214\n",
      "\n",
      "Epoch 3\n",
      "----------------------------\n",
      "Train RMSE: 162602.9318\n",
      "TEST RMSE: 160127.0801\n",
      "\n",
      "Epoch 4\n",
      "----------------------------\n",
      "Train RMSE: 158300.3242\n",
      "TEST RMSE: 155971.8198\n",
      "\n",
      "Epoch 5\n",
      "----------------------------\n",
      "Train RMSE: 153026.7083\n",
      "TEST RMSE: 152961.9134\n",
      "\n",
      "Epoch 6\n",
      "----------------------------\n",
      "Train RMSE: 147156.3166\n",
      "TEST RMSE: 146358.8914\n",
      "\n",
      "Epoch 7\n",
      "----------------------------\n",
      "Train RMSE: 139762.5948\n",
      "TEST RMSE: 141320.7293\n",
      "\n",
      "Epoch 8\n",
      "----------------------------\n",
      "Train RMSE: 132619.4097\n",
      "TEST RMSE: 136613.9118\n",
      "\n",
      "Epoch 9\n",
      "----------------------------\n",
      "Train RMSE: 126256.0240\n",
      "TEST RMSE: 132267.5949\n",
      "\n",
      "Epoch 10\n",
      "----------------------------\n",
      "Train RMSE: 121203.0020\n",
      "TEST RMSE: 128342.2823\n",
      "\n"
     ]
    }
   ],
   "source": [
    "# Number of runs through the dataset\n",
    "epochs = 10\n",
    "\n",
    "for epoch in range(epochs):\n",
    "    print(f'Epoch {epoch+1}\\n----------------------------')\n",
    "    train(train_dataloader, model, loss_fn, optimizer)\n",
    "    test(test_dataloader, model, loss_fn)"
   ]
  }
 ],
 "metadata": {
  "kernelspec": {
   "display_name": "0306",
   "language": "python",
   "name": "0306"
  },
  "language_info": {
   "codemirror_mode": {
    "name": "ipython",
    "version": 3
   },
   "file_extension": ".py",
   "mimetype": "text/x-python",
   "name": "python",
   "nbconvert_exporter": "python",
   "pygments_lexer": "ipython3",
   "version": "3.9.0"
  }
 },
 "nbformat": 4,
 "nbformat_minor": 5
}
